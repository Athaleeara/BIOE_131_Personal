{
 "cells": [
  {
   "cell_type": "markdown",
   "metadata": {},
   "source": [
    "## WEEK 1:\n",
    "\n",
    "#### terminal input: \n",
    "spades.py -o /home/be131-19/Lab_8_Nate/aligned -1 /data/lab8/illumina_reads_R1.fastq -2 /data/lab8/illumina_reads_R2.fastq --pacbio /data/lab8/pacbio_reads.fastq -t 1\n",
    "\n",
    "#### terminal output:\n",
    "\"======= SPAdes pipeline finished WITH WARNINGS!\n",
    "\n",
    "=== Error correction and assembling warnings:\n",
    " * 0:16:42.995   564M / 1G    WARN    General                 (kmer_coverage_model.cpp   : 218)   Too many erroneous kmers, the estimates might be unreliable\n",
    "======= Warnings saved to /home/be131-19/Lab_8_Nate/aligned.fastq/warnings.log\n",
    "\n",
    "SPAdes log can be found here: /home/be131-19/Lab_8_Nate/aligned.fastq/spades.log\n",
    "\n",
    "Thank you for using SPAdes!\"\n",
    "\n",
    "#### Questions:\n",
    "\n",
    "Why do we expect short reads to produce a more fragmented assembly than long reads?\n",
    "\n",
    "Why does a single-molecule sequencing like PacBio have a higher error rate than Illumina?"
   ]
  },
  {
   "cell_type": "markdown",
   "metadata": {},
   "source": [
    "## WEEK 2: \n",
    "\n",
    "# Running \"assembly-stats\" program\n",
    "\n",
    "#### input: assembly-stats contigs.fasta\n",
    "#### output:\n",
    "stats for contigs.fasta\n",
    "- sum = 6678635, n = 176, ave = 37946.79, largest = 414008\n",
    "- N50 = 234690, n = 11\n",
    "- N60 = 202142, n = 14\n",
    "- N70 = 154232, n = 18\n",
    "- N80 = 103367, n = 23\n",
    "- N90 = 81286, n = 30\n",
    "- N100 = 128, n = 176\n",
    "- N_count = 0\n",
    "- Gaps = 0\n",
    "\n",
    "#### input: assembly-stats scaffolds.fasta\n",
    "#### output:\n",
    "stats for scaffolds.fasta\n",
    "- sum = 6678655, n = 174, ave = 38383.07, largest = 414008\n",
    "- N50 = 234690, n = 11\n",
    "- N60 = 202142, n = 14\n",
    "- N70 = 154232, n = 18\n",
    "- N80 = 103367, n = 23\n",
    "- N90 = 81821, n = 30\n",
    "- N100 = 128, n = 174\n",
    "- N_count = 20\n",
    "- Gaps = 2\n",
    "\n",
    "#### Questions: \n",
    "Why is N50 is useful statistic to calculate? Why not just list the mean or median contig length?\n",
    "\n",
    "In your assembly, are scaffolds longer than contigs, or are scaffolds approximately equal to\n",
    "contigs?\n"
   ]
  },
  {
   "cell_type": "markdown",
   "metadata": {},
   "source": [
    "#### Extra Credit\n"
   ]
  },
  {
   "cell_type": "code",
   "execution_count": 2,
   "metadata": {},
   "outputs": [],
   "source": [
    "from Bio import SeqIO\n",
    "fasta_coverage = SeqIO.parse(open(\"/home/be131-19/Lab_8_Nate/aligned/contigs.fasta\"), \"fasta\")\n",
    "headers = []\n",
    "for x in fasta_coverage:\n",
    "    headers.append(x.id)"
   ]
  },
  {
   "cell_type": "code",
   "execution_count": 31,
   "metadata": {},
   "outputs": [],
   "source": [
    "coverage = []\n",
    "for y in headers:\n",
    "    a = y\n",
    "    cov = ''\n",
    "    while not a[-1] == \"_\":\n",
    "        cov = a[-1] + cov\n",
    "        length = len(a)\n",
    "        cut = length -1\n",
    "        a = a[:cut]\n",
    "    coverage.append(round(float(cov)))"
   ]
  },
  {
   "cell_type": "code",
   "execution_count": 34,
   "metadata": {},
   "outputs": [
    {
     "data": {
      "image/png": "[encoded data removed]",
      "text/plain": [
       "<Figure size 432x288 with 1 Axes>"
      ]
     },
     "metadata": {
      "needs_background": "light"
     },
     "output_type": "display_data"
    }
   ],
   "source": [
    "from collections import Counter\n",
    "import numpy as np\n",
    "import matplotlib.pyplot as plt\n",
    "\n",
    "\n",
    "count = Counter(coverage)\n",
    "labels, values = zip(*count.items())\n",
    "indexes = np.arange(len(labels))\n",
    "width = 0.75\n",
    "plt.bar(indexes, values, width)\n",
    "plt.xticks(indexes + width * 0.5, labels)\n",
    "plt.title(\"Coverage Histogram\")\n",
    "plt.xlabel(\"Coverage\")\n",
    "plt.ylabel(\"Count\")\n",
    "plt.show()"
   ]
  },
  {
   "cell_type": "markdown",
   "metadata": {},
   "source": [
    "#### Extra Credit Questions:\n",
    "Is coverage uniformly distributed? Does it look Gaussian? Is it bimodal or trimodal?\n",
    "\n",
    "Coverage has two modes at 1.0 and ... Here, the count of each coverage value is 2.0. Everywhere else, the histogram is uniform with a frequency of 1.0 for each coverage value. \n",
    "\n",
    "What explains the presence of contigs with coverage an integer multiple of the mean coverage?"
   ]
  },
  {
   "cell_type": "markdown",
   "metadata": {},
   "source": [
    "# Identifying taxon from which genome originated:\n",
    "\n",
    "### Step 1: Scan over the entire genome to locate copies of the 16S ribosomal RNA gene\n",
    "#### input:\n",
    "rna_hmm3.py -i /home/be131-19/Lab_8_Nate/aligned/contigs.fasta-o /home/be131-19/Lab_8_Nate/rRNA.gff\n",
    "\n",
    "#### output:\n",
    "this program output a Genome Feature Format (GFF) annotation file at the specified path (/home/be131-19/Lab_8_Nate/rRNA.gff). The output file was named \"rRNA.gff\". \n",
    "\n",
    "Next, in \"rRNA.gff\" I visually inspected that there were eight 23S_rRNA genes, six 16S_rRNA genes, and six 5S_rRNA genes. I deleted the 23S and 5S genes directly in the GFF file, leaving behind six 16S_rRNA genes. \n",
    "\n",
    "### Step 2: Extract the 16S rRNA genes directly from assembly\n",
    "#### input:\n",
    "bedtools getfasta -fi /home/be131-19/Lab_8_Nate/aligned/contigs.fasta -bed /home/be131-19/Lab_8_Nate/rRNA.gff\n",
    "\n",
    "#### output:\n",
    "index file /home/be131-19/Lab_8_Nate/aligned/contigs.fasta.fai not found, generating...\n",
    "\">NODE_23_length_103367_cov_10.081286:35530-37075\"\n",
    "\">NODE_18_length_154232_cov_9.584186:124541-126086\"\n",
    "\">NODE_5_length_327223_cov_9.241629:46285-47830\"\n",
    "\">NODE_6_length_298784_cov_8.918606:13925-15470\"\n",
    "\">NODE_4_length_332509_cov_9.114046:137011-138556\"\n",
    "\">NODE_2_length_378948_cov_10.006665:348499-350044\"\n",
    "\n",
    "Following each fasta header was the corresponding sequence, I omitted them because they were long. Instead, I stored them in a FASTA file since they were already in FASTA format. I named this file \"16SrRNA.fasta\". To make sure everything ran correctly, I made sure that the names of these output sequences matched the names of the 16S sequences stored in \"rRNA.gff\". They matched. \n",
    "\n",
    "### Step 3: Comparing these genes (above) to a database of known 16S rRNA genes\n",
    "\n",
    "I pointed my browser to: https://rdp.cme.msu.edu/seqmatch/seqmatch_intro.jsp\n",
    "Then I copied the FASTA formated sequences (output in the previous step) from \"16SrRNA.fasta\". I pasted them into the text box with the following parameters: {Strain: Both, Source: Both, Size:>1200, Quality:Good, Taxonomy:Nomenclatural, KNN matches:20}. \n",
    "\n",
    "The output follows: \n",
    "\n",
    "rootrank Root (6) (query sequences)            \n",
    "     - domain Bacteria  (6) \n",
    "         - phylum \"Proteobacteria\"  (6) \n",
    "            - class Gammaproteobacteria  (6) \n",
    "                - order Pseudomonadales  (6) \n",
    "                   - family Pseudomonadaceae  (6) \n",
    "                      - genus Pseudomonas  (6) \n",
    "                         NODE_23_length_103367_cov_10.081286:35530-37075  \n",
    "                         NODE_2_length_378948_cov_10.006665:348499-350044 \n",
    "                         NODE_6_length_298784_cov_8.918606:13925-15470\n",
    "                         NODE_5_length_327223_cov_9.241629:46285-47830  \n",
    "                         NODE_4_length_332509_cov_9.114046:137011-138556  \n",
    "                         NODE_18_length_154232_cov_9.584186:124541-126086 \n",
    "                         \n",
    "Genus level identification: Pseudomonas\n",
    "\n",
    "I came to this conclusion because each of the six 16S rRNA sequences that I ran in the SeqMatch tool was identified as part of the genus Pseudomonas. It did this by comparing each of the 16S sequences to a database of high-quality curated sequences, obtained from known bacteria. Since all of the sequences ran gave the same genus, I concluded that this was the genus. \n",
    "\n",
    "# Genome Annotation\n",
    "\n",
    "## RAST\n",
    "\n",
    "RAST says \"You may upload a prokaryotic genome in one or more contigs, as either a single multitrecord FASTA format file or a Genbank format file.\" so I uploaded \"contigs.fasta\" after I made an account. On the second page I indicated that the domain was Bacteria, the genus was Pseudomonas, and chose that the genetic code was 11 (for Archea, most Bacteria, most Virii, and some Mitochondria). Then I submitted the job.\n",
    "RAST then gave me a job id: 653399.\n",
    "\n",
    "## BASys \n",
    "\n",
    "In BASys, I input my email into the first field, I chose \"1\" as the genome/contig identifier, with some research I found that bacteria in the genus Pseudomonas are gram negative (https://en.wikipedia.org/wiki/Pseudomonas_aeruginosa), I then input the genus as \"Pseudomonas\". I also selected that the contig is circular and chose the genetic code was bacterial. \n",
    "\n"
   ]
  },
  {
   "cell_type": "code",
   "execution_count": null,
   "metadata": {},
   "outputs": [],
   "source": []
  }
 ],
 "metadata": {
  "kernelspec": {
   "display_name": "Python 3",
   "language": "python",
   "name": "python3"
  },
  "language_info": {
   "codemirror_mode": {
    "name": "ipython",
    "version": 3
   },
   "file_extension": ".py",
   "mimetype": "text/x-python",
   "name": "python",
   "nbconvert_exporter": "python",
   "pygments_lexer": "ipython3",
   "version": "3.6.6"
  }
 },
 "nbformat": 4,
 "nbformat_minor": 2
}
