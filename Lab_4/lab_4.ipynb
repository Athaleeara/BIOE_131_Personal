{
 "cells": [
  {
   "cell_type": "code",
   "execution_count": 5,
   "metadata": {},
   "outputs": [],
   "source": [
    "import sqlite3\n",
    "conn = sqlite3.connect('my.db')\n",
    "c = conn.cursor()\n",
    "\n",
    "c.execute(\"\"\"DROP TABLE Gene_Table\"\"\")\n",
    "c.execute(\"\"\"DROP TABLE Pathway_Table\"\"\")\n",
    "c.execute(\"\"\"DROP TABLE Enzyme_Table\"\"\")\n",
    "\n",
    "\n",
    "c.execute(\"\"\"CREATE TABLE Gene_Table (id INT PRIMARY KEY ASC,\n",
    "                                        name TEXT, \n",
    "                                        description TEXT, \n",
    "                                        organism TEXT,\n",
    "                                        ntsequence TEXT, \n",
    "                                        chromosome TEXT, \n",
    "                                        startpos INT, \n",
    "                                        endpos INT, \n",
    "                                        strand VARCHAR(1), \n",
    "                                        transseq INT);\"\"\")\n",
    "\n",
    "c.execute(\"\"\"CREATE TABLE Pathway_Table (id INT PRIMARY KEY ASC,\n",
    "                                        name TEXT, \n",
    "                                        description TEXT);\"\"\")\n",
    "\n",
    "c.execute(\"\"\"CREATE TABLE Enzyme_Table (id INT PRIMARY KEY ASC,\n",
    "                                        name TEXT, \n",
    "                                        function TEXT, \n",
    "                                        ECnum INT);\"\"\")\n",
    "\n",
    "conn.commit()"
   ]
  },
  {
   "cell_type": "code",
   "execution_count": null,
   "metadata": {},
   "outputs": [],
   "source": [
    "from Bio import Entrez\n",
    "\n"
   ]
  }
 ],
 "metadata": {
  "kernelspec": {
   "display_name": "Python 3",
   "language": "python",
   "name": "python3"
  },
  "language_info": {
   "codemirror_mode": {
    "name": "ipython",
    "version": 3
   },
   "file_extension": ".py",
   "mimetype": "text/x-python",
   "name": "python",
   "nbconvert_exporter": "python",
   "pygments_lexer": "ipython3",
   "version": "3.6.5"
  }
 },
 "nbformat": 4,
 "nbformat_minor": 2
}
