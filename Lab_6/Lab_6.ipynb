{
 "cells": [
  {
   "cell_type": "markdown",
   "metadata": {},
   "source": [
    "# Mapping the Reads to the Human Genome\n",
    "\n",
    "#### INPUT to terminal: \n",
    "bowtie2 -p 4 --very-fast --no-unal -x /data/hg19/hg19 -U /data/lab6/illumina_reads.fastq -S output_natina.sam --un unaligned_nate.fastq\n",
    "\n",
    "#### OUTPUT from terminal:\n",
    "- 1124714 reads; of these:\n",
    "  - 1124714 (100.00%) were unpaired; of these:\n",
    "    - 1028379 (91.43%) aligned 0 times\n",
    "    - 87274 (7.76%) aligned exactly 1 time\n",
    "    - 9061 (0.81%) aligned >1 times\"\"\"\n",
    "- 8.57% overall alignment rate\n",
    "\n",
    "#### DESCRIPTION: This code took in the reads from Illumina stored at \"/data/lab6/illumina_reads.fastq\" and attempted to align them to the bowtie2 database containing the human genome, \"/data/hg/hg.\" It outputs the aligned reads into a .sam file named \"output_natina.sam\" and the unaligned reads to a seperate .fastq file titled \"unaligned_nate.fastq\". A description of the codewords used follows: \"-p 4\" tells bowtie to use 4 threads/cores instead of one (4x faster); \"--very-fast\" tells bowtie to prioritize speed over sensitivity; \"--no-unal\" tells bowtie not to report the unaligned reads in the output SAM file; \"-x\" specifies the path of the database that you are trying to align to, in this case, \"/data/hg19/hg19\"; \"-U\" specifies the path to your input reads in FASTQ format, in this case \"/data/lab6/illumina_reads.fastq\"; \"-S\" specifies the path to the output SAM file, in this case \"output_natina.sam\" ; \"-un\" tells bowtie where to dump the unaligned reads, in this case \"unaligned_nate.fastq\".\n",
    "\n",
    "\n",
    "# Mapping the Remaining Reads to the Reference Genome\n",
    "\n",
    "#### INPUT to terminal\n",
    "bowtie2 -p 4 --very-fast --no-unal -x /data/lab6/shewanella_oneidensis_mr-1 -U unaligned_nate.fastq  -S aligned_to_shewa.sam --un unaligned_to_shewa.fastq\n",
    "\n",
    "#### OUTPUT from terminal\n",
    "- 1028379 reads; of these:\n",
    " -  1028379 (100.00%) were unpaired; of these:\n",
    "   -  299560 (29.13%) aligned 0 times\n",
    "   -  687571 (66.86%) aligned exactly 1 time\n",
    "    - 41248 (4.01%) aligned >1 times\n",
    "- 70.87% overall alignment rate\n",
    "\n",
    "#### DESCRIPTION: This code follows the same format of the code described at length immediately above this. This time, the database that \"-x\" is specifying is \"/data/lab6/shewanella_oneidensis_mr-1\", the reference genome (not the human genome). The reads that it is attempting to align to the specified genome are the unaligned reads from the previous line of code. These imput reads are stored in the FASTQ file named \"unaligned_nate.fastq\". This time the aligned reads are output to the SAM file named \"aligned_to_shewa.sam\" and the unaligned reads are output to the FASTQ file \"unaligned_to_shewa.fastq\".\n",
    "\n",
    "# Mapping the Remaining Reads Using Very Sensitive\n",
    "\n",
    "##### INPUT to terminal:\n",
    "bowtie2 -p 4 --very-sensitive --no-unal -x /data/lab6/shewanella_oneidensis_mr-1 -U unaligned_nate.fastq  -S aligned_to_shewa_sensitive.sam --un unaligned_to_shewa_sensitive.fastq\n",
    "\n",
    "##### OUTPUT from terminal:\n",
    "- 1028379 reads; of these:\n",
    "  - 1028379 (100.00%) were unpaired; of these:\n",
    "   -  298112 (28.99%) aligned 0 times\n",
    "   -  688180 (66.92%) aligned exactly 1 time\n",
    "    - 42087 (4.09%) aligned >1 times\n",
    "- 71.01% overall alignment rate\n",
    "\n",
    "#### DESCRIPTION: This line in terminal has the same the same inputs as the line immediately above. The output files differ becasue they are titled differently to allow me to distinguish from the previous output files. This time the aligned reads were put into SAM file named \"aligned_to_shewa_sensitive.sam\" and the unaligned reads were put into a FASTQ file named :unaligned_to_shewa_sensitive.fastq\". The difference between this and the previous line in terminal is that the code word \"--very-sensitive\" replaced \"--very-fast\". This tells bowtie to prioritize sensitivity over speed. This sensitive run has a 71.01% alignement rate compared to the 70.87% alignment rate for the fast run. \n",
    "\n",
    "# Converting to BAM, Sorting, Indexing, and Using \"depth\"\n",
    "\n",
    "####  INPUT to terminal\n",
    "\n",
    "- samtools view -b aligned_to_shewa_sensitive.sam > aligned_to_shewa.bam\n",
    "- samtools sort aligned_to_shewa.bam > aligned_to_shewa.sorted.bam\n",
    "- samtools index aligned_to_shewa.sorted.bam\n",
    "- samtools depth -a aligned_to_shewa.sorted.bam > pileup_nate.tab\n",
    "\n",
    "#### The first line converted \"aligned_to_shewa_sensitive.sam\" from SAM to BAM and named it \"aligned_to_shewa.bam\". The following line sorted the BAM file, \"aligned_to_shewa.bam\", by coordinates so that we would be able to index it, and output a BAM file, \"aligned_to_shewa.sorted.bam\". \n"
   ]
  },
  {
   "cell_type": "code",
   "execution_count": 24,
   "metadata": {},
   "outputs": [],
   "source": [
    "import csv \n",
    "with open(\"pileup_nate.tab\") as inp:\n",
    "    a = list(zip(*(line.strip().split('\\t') for line in inp)))"
   ]
  },
  {
   "cell_type": "code",
   "execution_count": 25,
   "metadata": {},
   "outputs": [
    {
     "name": "stdout",
     "output_type": "stream",
     "text": [
      "max coverage:\n",
      "281\n",
      "min coverage\n",
      "0\n",
      "mean coverage\n",
      "37.03830306625343\n"
     ]
    }
   ],
   "source": [
    "positions = []\n",
    "for x in a[1]:\n",
    "    positions.append(int(x))\n",
    "\n",
    "depth_cov = []\n",
    "for x in a[2]:\n",
    "    depth_cov.append(int(x))\n",
    "    \n",
    "\n",
    "print(\"max coverage:\")\n",
    "print(max(depth_cov))\n",
    "print(\"min coverage\")\n",
    "print(min(depth_cov))\n",
    "print(\"mean coverage\")\n",
    "print(sum(depth_cov)/len(depth_cov))\n"
   ]
  },
  {
   "cell_type": "code",
   "execution_count": 26,
   "metadata": {},
   "outputs": [
    {
     "data": {
      "image/png": "[encoded data removed]",
      "text/plain": [
       "<Figure size 432x288 with 1 Axes>"
      ]
     },
     "metadata": {
      "needs_background": "light"
     },
     "output_type": "display_data"
    }
   ],
   "source": [
    "import matplotlib.pyplot as plt\n",
    "import numpy as np\n",
    "\n",
    "x_values = positions\n",
    "y_values= depth_cov\n",
    "plt.scatter(x_values, y_values, s = 1)\n",
    "plt.xlabel(\"Position in Genome\")\n",
    "plt.ylabel(\"Depth of Coverage\")\n",
    "plt.title(\"Depth of Coverage vs Position in Genome\")\n",
    "plt.show()"
   ]
  },
  {
   "cell_type": "code",
   "execution_count": 27,
   "metadata": {},
   "outputs": [
    {
     "data": {
      "image/png": "[encoded data removed]",
      "text/plain": [
       "<Figure size 432x288 with 1 Axes>"
      ]
     },
     "metadata": {
      "needs_background": "light"
     },
     "output_type": "display_data"
    }
   ],
   "source": [
    "depth_axis = range(1, max(depth_cov) + 1)\n",
    "\n",
    "\n",
    "def count(num, lst):\n",
    "    i,c = 0, 0\n",
    "    while i < len(lst):\n",
    "        if lst[i] == num:\n",
    "            c += 1\n",
    "        i += 1\n",
    "    return c\n",
    "count_axis = []        \n",
    "for x in depth_axis:\n",
    "    count_axis.append(count(x, depth_cov))\n",
    "\n",
    "plt.bar(depth_axis, count_axis)\n",
    "plt.xlabel(\"Depth of Coverage\")\n",
    "plt.ylabel(\"Count\")\n",
    "plt.title(\"Depth of Coverage vs Count\")\n",
    "plt.show()"
   ]
  },
  {
   "cell_type": "markdown",
   "metadata": {},
   "source": [
    "- samtools view -b output_natina.sam > output_natina.bam\n",
    "- samtools sort output_natina.bam > output_natina.sorted.bam\n",
    "- samtools index output_natina.sorted.bam\n",
    "- samtools depth -a output_natina.sorted.bam > pileup_hg.tab"
   ]
  },
  {
   "cell_type": "code",
   "execution_count": null,
   "metadata": {},
   "outputs": [],
   "source": [
    "import csv \n",
    "with open(\"pileup_hg.tab\") as inp:\n",
    "    b = list(zip(*(line.strip().split('\\t') for line in inp)))"
   ]
  },
  {
   "cell_type": "code",
   "execution_count": null,
   "metadata": {},
   "outputs": [],
   "source": [
    "chromosomes = []\n",
    "for x in b[0]:\n",
    "    chromosomes.append(x)\n",
    "hpositions = []\n",
    "for x in b[1]:\n",
    "    hpositions.append(int(x))\n",
    "\n",
    "hdepth_cov = []\n",
    "for x in a[2]:\n",
    "    hdepth_cov.append(int(x))"
   ]
  }
 ],
 "metadata": {
  "kernelspec": {
   "display_name": "Python 3",
   "language": "python",
   "name": "python3"
  },
  "language_info": {
   "codemirror_mode": {
    "name": "ipython",
    "version": 3
   },
   "file_extension": ".py",
   "mimetype": "text/x-python",
   "name": "python",
   "nbconvert_exporter": "python",
   "pygments_lexer": "ipython3",
   "version": "3.6.6"
  }
 },
 "nbformat": 4,
 "nbformat_minor": 2
}
