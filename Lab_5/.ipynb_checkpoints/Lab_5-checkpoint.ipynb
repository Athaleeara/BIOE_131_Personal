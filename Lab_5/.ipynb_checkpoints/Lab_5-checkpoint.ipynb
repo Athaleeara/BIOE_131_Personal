{
 "cells": [
  {
   "cell_type": "code",
   "execution_count": 19,
   "metadata": {},
   "outputs": [
    {
     "name": "stdout",
     "output_type": "stream",
     "text": [
      "yes-1 match:\n",
      "True\n",
      "\n",
      "not-1 match:\n",
      "True\n",
      "\n",
      "and-1 match:\n",
      "True\n",
      "\n",
      "or-1 match:\n",
      "True\n"
     ]
    }
   ],
   "source": [
    "# Confirming sequences copied down correctly \n",
    "#yes1\n",
    "nate_yes1 = \"GGGCGACCCUGAUGAGCUUGAGUUUAGCUCGUCACUGUCCAGGUUCAAUCAGGCGAAACGGUGAAAGCCGUAGGUUGCCC\"\n",
    "ryan_yes1 = \"GGGCGACCCUGAUGAGCUUGAGUUUAGCUCGUCACUGUCCAGGUUCAAUCAGGCGAAACGGUGAAAGCCGUAGGUUGCCC\"\n",
    "print(\"yes-1 match:\")\n",
    "print(nate_yes1 == ryan_yes1)\n",
    "print(\"\")\n",
    "\n",
    "# not1\n",
    "nate_not1 = \"GGCAGGUACAUACAGCUGAUGAGUCCCAAAUAGGACGAAACGCGACACACACCACUAAACCGUGCAGUGUUUUGCGUCCUGUAUUCCACUGC\"\n",
    "ryan_not1 = \"GGCAGGUACAUACAGCUGAUGAGUCCCAAAUAGGACGAAACGCGACACACACCACUAAACCGUGCAGUGUUUUGCGUCCUGUAUUCCACUGC\"\n",
    "print(\"not-1 match:\")\n",
    "print(nate_not1 == ryan_not1)\n",
    "print(\"\")\n",
    "\n",
    "# and1\n",
    "nate_and1 = \"GGGCGACCCUGAUGAGCUUGGUUUAGUAUUUACAGCUCCAUACAUGAGGUGUUAUCCCUAUGCAAGUUCGAUCAGGCGAAACGGUGAAAGCCGUAGGUUGCCCAGAGACAAU\"\n",
    "ryan_and1 = \"GGGCGACCCUGAUGAGCUUGGUUUAGUAUUUACAGCUCCAUACAUGAGGUGUUAUCCCUAUGCAAGUUCGAUCAGGCGAAACGGUGAAAGCCGUAGGUUGCCCAGAGACAAU\"\n",
    "print(\"and-1 match:\")\n",
    "print(nate_and1 == ryan_and1)\n",
    "print(\"\")\n",
    "\n",
    "# or1\n",
    "nate_or1 = \"GGGCGACCCUGAUGAGCUUGGUUGAGUAUUUACAGCUCCAUACAUGAGGUGUUCUCCCUACGCAAGUUCGAUCAGGCGAAACGGUGAAAGCCGUAGGUUGCCC\"\n",
    "ryan_or1 = \"GGGCGACCCUGAUGAGCUUGGUUGAGUAUUUACAGCUCCAUACAUGAGGUGUUCUCCCUACGCAAGUUCGAUCAGGCGAAACGGUGAAAGCCGUAGGUUGCCC\"\n",
    "print(\"or-1 match:\")\n",
    "print(nate_or1 == ryan_or1)"
   ]
  },
  {
   "cell_type": "markdown",
   "metadata": {},
   "source": [
    "#### I was not able to find where the sequences from the paper were uploaded, so my partner and I transcribed them by hand. I used the code above in order to make sure that the sequences we transcribed matched. The code that I wrote above printed out \"True\" for all of our transcribed strings, showing me that these were indeed correctly transcribed. (I do not mean transcribed as in DNA --> RNA)."
   ]
  },
  {
   "cell_type": "code",
   "execution_count": 25,
   "metadata": {},
   "outputs": [],
   "source": [
    "yes1 = \\\n",
    "\"\"\">yes1\n",
    "GGGCGACCCUGAUGAGCUUGAGUUUAGCUCGUCACUGUCCAGGUUCAAUCAGGCGAAACGGUGAAAGCCGUAGGUUGCCC\"\"\"\n",
    "\n",
    "not1 = \\\n",
    "\"\"\">not1\n",
    "GGCAGGUACAUACAGCUGAUGAGUCCCAAAUAGGACGAAACGCGACACACACCACUAAACCGUGCAGUGUUUUGCGUCCUGUAUUCCACUGC\"\"\"\n",
    "\n",
    "and1 = \\\n",
    "\"\"\">and1\n",
    "GGGCGACCCUGAUGAGCUUGGUUUAGUAUUUACAGCUCCAUACAUGAGGUGUUAUCCCUAUGCAAGUUCGAUCAGGCGAAACGGUGAAAGCCGUAGGUUGCCCAGAGACAAU\"\"\"\n",
    "\n",
    "or1 = \\\n",
    "\"\"\">or1\n",
    "GGGCGACCCUGAUGAGCUUGGUUGAGUAUUUACAGCUCCAUACAUGAGGUGUUCUCCCUACGCAAGUUCGAUCAGGCGAAACGGUGAAAGCCGUAGGUUGCCC\"\"\""
   ]
  },
  {
   "cell_type": "markdown",
   "metadata": {},
   "source": [
    "#### In the above cell, I copied and pasted the sequences for yes-1, not-1, and-1, and or-1 and defined the sequences in a way that would work with the subprocessor and RNA fold.\n"
   ]
  },
  {
   "cell_type": "code",
   "execution_count": 3,
   "metadata": {},
   "outputs": [
    {
     "name": "stdout",
     "output_type": "stream",
     "text": [
      "riboname  OBS-1    OBS-2    Red 1    Red 2  \n",
      "-------- -------- -------- -------- --------\n",
      "    yes1 (26, 47)       -- (16, 21) (49, 54)\n",
      "    not1 (44, 66)       -- (40, 43) (74, 77)\n",
      "    and1 (30, 45) (49, 64) (16, 23) (70, 77)\n",
      "     or1 (27, 46)  (47,66) (16, 26) (67, 77)\n"
     ]
    }
   ],
   "source": [
    "# Creating Table with columns: \"riboswitch name\", \"start/end coords of OBS-1\", \"start/end coords of OBS-2\"\n",
    "# \"start/end coords of red regions\"\n",
    "\n",
    "from astropy.table import Table\n",
    "row_yes1 = [\"yes1\", \"(26, 47)\", \"--\", \"(16, 21)\", \"(49, 54)\"]\n",
    "row_not1 = [\"not1\", \"(44, 66)\", \"--\", \"(40, 43)\", \"(74, 77)\"]\n",
    "row_and1 = [\"and1\", \"(30, 45)\", \"(49, 64)\", \"(16, 23)\", \"(70, 77)\"]\n",
    "row_or1 = [\"or1\", \"(27, 46)\",\"(47,66)\", \"(16, 26)\", \"(67, 77)\"]\n",
    "rows = [row_yes1, row_not1, row_and1, row_or1]\n",
    "\n",
    "a = Table(rows = rows, names = (\"riboname\", \"OBS-1\", \n",
    "                                \"OBS-2\", \"Red 1\", \"Red 2\"))\n",
    "print(a)"
   ]
  },
  {
   "cell_type": "markdown",
   "metadata": {},
   "source": [
    "#### In the above cell, I used astro.py to create a table with columns: riboname, OBS-1, OBS-2, Red 1, and Red 2 and rows: yes1, not1, and1, and or1."
   ]
  },
  {
   "cell_type": "code",
   "execution_count": 27,
   "metadata": {},
   "outputs": [],
   "source": [
    "import subprocess\n",
    "from Bio import SeqIO\n",
    "\n",
    "def rnafold_sub(sequence):\n",
    "    proc = subprocess.run([\".\\RNAfold.exe\"], \n",
    "                           input = bytes(sequence, \"ascii\"),\n",
    "                           stdout=subprocess.PIPE, \n",
    "                           stderr=subprocess.PIPE)\n",
    "\n",
    "rna_switches = [yes1, not1, and1, or1]\n",
    "for switch in rna_switches:\n",
    "    rnafold_sub(switch)"
   ]
  },
  {
   "cell_type": "code",
   "execution_count": null,
   "metadata": {},
   "outputs": [],
   "source": []
  },
  {
   "cell_type": "markdown",
   "metadata": {},
   "source": [
    "# YES1\n",
    "![yes1_ss.png](all_png_files/yes1_ss.png)\n",
    "\n",
    "# NOT1\n",
    "![not1_ss.png](all_png_files/not1_ss.png)\n",
    "\n",
    "# AND1 \n",
    "![and1_ss.png](all_png_files/and1_ss.png)\n",
    "\n",
    "# OR1\n",
    "![or1_ss.png](all_png_files/or1_ss.png)"
   ]
  },
  {
   "cell_type": "code",
   "execution_count": null,
   "metadata": {},
   "outputs": [],
   "source": [
    "https://image.online-convert.com/convert-to-png"
   ]
  },
  {
   "cell_type": "code",
   "execution_count": 74,
   "metadata": {},
   "outputs": [
    {
     "name": "stdout",
     "output_type": "stream",
     "text": [
      "yes1_constraints:\n",
      "GGGCGACCCUGAUGAGCUUGAGUUUAGCUCGUCACUGUCCAGGUUCAAUCAGGCGAAACGGUGAAAGCCGUAGGUUGCCC\n",
      ".........................xxxxxxxxxxxxxxxxxxxxxx.................................\n"
     ]
    }
   ],
   "source": [
    "# Attempt to Make Yes Constraints File automatically\n",
    "# OBS region of YES1: (26, 47)\n",
    "yes1_constraints = \"\"\n",
    "for i in range(len(nate_yes1)):\n",
    "    if i in range(25,47):\n",
    "        yes1_constraints += \"x\"\n",
    "    else:\n",
    "        yes1_constraints += \".\"\n",
    "        \n",
    "print(\"yes1_constraints:\")        \n",
    "print(nate_yes1)\n",
    "print(yes1_constraints)"
   ]
  },
  {
   "cell_type": "code",
   "execution_count": 61,
   "metadata": {},
   "outputs": [],
   "source": [
    "file1 = open(\"YES-1_constraints.txt\", \"w\")\n",
    "file1.write(yes1_constraints)\n",
    "file1.close()"
   ]
  },
  {
   "cell_type": "markdown",
   "metadata": {},
   "source": [
    "# YES-1 with OBS1 bound\n",
    "![yes1_constraints_ss.png](all_png_files/yes1_constraints_ss.png)"
   ]
  },
  {
   "cell_type": "code",
   "execution_count": 71,
   "metadata": {},
   "outputs": [
    {
     "name": "stdout",
     "output_type": "stream",
     "text": [
      "not1_constraints:\n",
      "GGCAGGUACAUACAGCUGAUGAGUCCCAAAUAGGACGAAACGCGACACACACCACUAAACCGUGCAGUGUUUUGCGUCCUGUAUUCCACUGC\n",
      "...........................................xxxxxxxxxxxxxxxxxxxxxxx..........................\n"
     ]
    }
   ],
   "source": [
    "# Attempt to Make Not Constraints File automatically\n",
    "# OBS region of NOT1: (44, 66)\n",
    "not1_constraints = \"\"\n",
    "for i in range(len(nate_not1)):\n",
    "    if i in range(43, 66):\n",
    "        not1_constraints += \"x\"\n",
    "    else:\n",
    "        not1_constraints += \".\"\n",
    "print(\"not1_constraints:\")\n",
    "print(nate_not1)\n",
    "print(not1_constraints)\n",
    "file2 = open(\"NOT-1_constraints.txt\", \"w\")\n",
    "file2.write(not1_constraints)\n",
    "file2.close()"
   ]
  },
  {
   "cell_type": "markdown",
   "metadata": {},
   "source": [
    "### RAN THIS IN TERMINAL \"\"\n",
    "\n",
    "![not1_constraints_ss.png](all_png_files/not1_constraints_ss.png)"
   ]
  },
  {
   "cell_type": "code",
   "execution_count": 69,
   "metadata": {},
   "outputs": [
    {
     "name": "stdout",
     "output_type": "stream",
     "text": [
      "and-1 OBS1 constraints:\n",
      "GGGCGACCCUGAUGAGCUUGGUUUAGUAUUUACAGCUCCAUACAUGAGGUGUUAUCCCUAUGCAAGUUCGAUCAGGCGAAACGGUGAAAGCCGUAGGUUGCCCAGAGACAAU\n",
      ".............................xxxxxxxxxxxxxxxx...................................................................\n",
      "and-1 OBS2 constraints:\n",
      "GGGCGACCCUGAUGAGCUUGGUUUAGUAUUUACAGCUCCAUACAUGAGGUGUUAUCCCUAUGCAAGUUCGAUCAGGCGAAACGGUGAAAGCCGUAGGUUGCCCAGAGACAAU\n",
      "................................................xxxxxxxxxxxxxxxx................................................\n",
      "and-1 OBS1 and OBS2 constraints:\n",
      "GGGCGACCCUGAUGAGCUUGGUUUAGUAUUUACAGCUCCAUACAUGAGGUGUUAUCCCUAUGCAAGUUCGAUCAGGCGAAACGGUGAAAGCCGUAGGUUGCCCAGAGACAAU\n",
      ".............................xxxxxxxxxxxxxxxx...xxxxxxxxxxxxxxxx................................................\n"
     ]
    }
   ],
   "source": [
    "# OBS1 region of AND1: (30, 45)\n",
    "and1_constraints_OBS1 = \"\"\n",
    "for i in range(len(nate_and1)):\n",
    "    if i in range(29, 45):\n",
    "        and1_constraints_OBS1 += \"x\"\n",
    "    else:\n",
    "        and1_constraints_OBS1 += \".\"\n",
    "print(\"and-1 OBS1 constraints:\")\n",
    "print(nate_and1)\n",
    "print(and1_constraints_OBS1)\n",
    "file2 = open(\"AND-1_OBS1_constraints.txt\", \"w\")\n",
    "file2.write(and1_constraints_OBS1)\n",
    "file2.close()\n",
    "\n",
    "# OBS2 region of AND1:(49, 64)\n",
    "and1_constraints_OBS2 = \"\"\n",
    "for i in range(len(nate_and1)):\n",
    "    if i in range(48, 64):\n",
    "        and1_constraints_OBS2 += \"x\"\n",
    "    else:\n",
    "        and1_constraints_OBS2 += \".\"\n",
    "print(\"and-1 OBS2 constraints:\")\n",
    "print(nate_and1)\n",
    "print(and1_constraints_OBS2)\n",
    "file3 = open(\"AND-1_OBS2_constraints.txt\", \"w\")\n",
    "file3.write(and1_constraints_OBS2)\n",
    "file3.close()\n",
    "\n",
    "\n",
    "and1_constraints_OBS12 = \"\"\n",
    "for i in range(len(nate_and1)):\n",
    "    if i in range(48, 64):\n",
    "        and1_constraints_OBS12 += \"x\"\n",
    "    elif i in range(29, 45):\n",
    "        and1_constraints_OBS12 += \"x\"\n",
    "    else:\n",
    "        and1_constraints_OBS12 += \".\"\n",
    "print(\"and-1 OBS1 and OBS2 constraints:\")\n",
    "print(nate_and1)\n",
    "print(and1_constraints_OBS12)\n",
    "file3 = open(\"AND-1_OBS1and2_constraints.txt\", \"w\")\n",
    "file3.write(and1_constraints_OBS12)\n",
    "file3.close()\n",
    "\n"
   ]
  },
  {
   "cell_type": "markdown",
   "metadata": {},
   "source": [
    "# AND-1 OBS1 Constraint\n",
    "![and1_constraint_OBS1_ss.png](all_png_files/and1_constraint_OBS1_ss.png)\n",
    "\n",
    "# AND-1 OBS2 Constraint\n",
    "![and1_constraint_OBS2_ss.png](all_png_files/and1_constraint_OBS2_ss.png)\n",
    "\n",
    "# AND-1 OBS1 and OBS2 Constraint\n",
    "![and1_constraint_OBS1and2_ss.png](all_png_files/and1_constraint_OBS1and2_ss.png)"
   ]
  },
  {
   "cell_type": "code",
   "execution_count": 70,
   "metadata": {},
   "outputs": [
    {
     "name": "stdout",
     "output_type": "stream",
     "text": [
      "or-1 OBS1 constraints:\n",
      "GGGCGACCCUGAUGAGCUUGGUUGAGUAUUUACAGCUCCAUACAUGAGGUGUUCUCCCUACGCAAGUUCGAUCAGGCGAAACGGUGAAAGCCGUAGGUUGCCC\n",
      "..........................xxxxxxxxxxxxxxxxxxxx.........................................................\n",
      "or-1 OBS2 constraints:\n",
      "GGGCGACCCUGAUGAGCUUGGUUGAGUAUUUACAGCUCCAUACAUGAGGUGUUCUCCCUACGCAAGUUCGAUCAGGCGAAACGGUGAAAGCCGUAGGUUGCCC\n",
      "..............................................xxxxxxxxxxxxxxxxxxxx.....................................\n",
      "or-1 OBS1 and OBS2 constraints:\n",
      "GGGCGACCCUGAUGAGCUUGGUUGAGUAUUUACAGCUCCAUACAUGAGGUGUUCUCCCUACGCAAGUUCGAUCAGGCGAAACGGUGAAAGCCGUAGGUUGCCC\n",
      "..........................xxxxxxxxxxxxxxxxxxxxxxxxxxxxxxxxxxxxxxxx.....................................\n"
     ]
    }
   ],
   "source": [
    "# OBS1 region of OR1: (27, 46)  \n",
    "or1_constraints_OBS1 = \"\"\n",
    "for i in range(len(nate_or1)):\n",
    "    if i in range(26, 46):\n",
    "        or1_constraints_OBS1 += \"x\"\n",
    "    else:\n",
    "        or1_constraints_OBS1 += \".\"\n",
    "print(\"or-1 OBS1 constraints:\")\n",
    "print(nate_or1)\n",
    "print(or1_constraints_OBS1)\n",
    "file2 = open(\"OR-1_OBS1_constraints.txt\", \"w\")\n",
    "file2.write(or1_constraints_OBS1)\n",
    "file2.close()\n",
    "\n",
    "# OBS2 region of OR1:(47,66)\n",
    "or1_constraints_OBS2 = \"\"\n",
    "for i in range(len(nate_or1)):\n",
    "    if i in range(46, 66):\n",
    "        or1_constraints_OBS2 += \"x\"\n",
    "    else:\n",
    "        or1_constraints_OBS2 += \".\"\n",
    "print(\"or-1 OBS2 constraints:\")\n",
    "print(nate_or1)\n",
    "print(or1_constraints_OBS2)\n",
    "file3 = open(\"OR-1_OBS2_constraints.txt\", \"w\")\n",
    "file3.write(or1_constraints_OBS2)\n",
    "file3.close()\n",
    "\n",
    "\n",
    "or1_constraints_OBS12 = \"\"\n",
    "for i in range(len(nate_or1)):\n",
    "    if i in range(46, 66):\n",
    "        or1_constraints_OBS12 += \"x\"\n",
    "    elif i in range(26, 46):\n",
    "        or1_constraints_OBS12 += \"x\"\n",
    "    else:\n",
    "        or1_constraints_OBS12 += \".\"\n",
    "print(\"or-1 OBS1 and OBS2 constraints:\")\n",
    "print(nate_or1)\n",
    "print(or1_constraints_OBS12)\n",
    "file3 = open(\"OR-1_OBS1and2_constraints.txt\", \"w\")\n",
    "file3.write(or1_constraints_OBS12)\n",
    "file3.close()\n",
    "\n"
   ]
  },
  {
   "cell_type": "markdown",
   "metadata": {},
   "source": [
    "# OR-1 OBS1 Constraint\n",
    "![or1_constraint_OBS1_ss.png](all_png_files/or1_constraint_OBS1_ss.png)\n",
    "\n",
    "# OR-1 OBS2 Constraint\n",
    "![or1_constraint_OBS2_ss.png](all_png_files/or1_constraint_OBS2_ss.png)\n",
    "\n",
    "# OR-1 OBS1 and OBS2 Constraint\n",
    "![or1_constraint_OBS1and2_ss.png](all_png_files/or1_constraint_OBS1and2_ss.png)"
   ]
  },
  {
   "cell_type": "code",
   "execution_count": null,
   "metadata": {},
   "outputs": [],
   "source": []
  }
 ],
 "metadata": {
  "kernelspec": {
   "display_name": "Python 3",
   "language": "python",
   "name": "python3"
  },
  "language_info": {
   "codemirror_mode": {
    "name": "ipython",
    "version": 3
   },
   "file_extension": ".py",
   "mimetype": "text/x-python",
   "name": "python",
   "nbconvert_exporter": "python",
   "pygments_lexer": "ipython3",
   "version": "3.6.5"
  }
 },
 "nbformat": 4,
 "nbformat_minor": 2
}
