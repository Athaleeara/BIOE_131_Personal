{
 "cells": [
  {
   "cell_type": "markdown",
   "metadata": {},
   "source": [
    "# Questions Posed in the Lab 5 Intro\n",
    "\n",
    "### _Will the AND-1 riboswitch cleave itself when both of its OBS are bound?_\n",
    "####  - Yes. The AND-1 riboswitch acts like an AND logic gate. A bound site represents a \"True\" input. There are two bound OBS so the input \"True\" AND \"True\" yields  a \"True\" output. A true output corresponds to when the red regions are aligned and bound to each other so the riboswitch will cleave itself.\n",
    "\n",
    "### _Will the OR-1 riboswitch cleave itself when neither of its OBS are bound?_\n",
    "\n",
    "#### - No. The OR-1 riboswitch acts like a NOT logic gate. An unbound site represents a \"False\" input. There are two unbound sites so the input \"False\" OR \"False\" yields a \"False\" output. A \"False\" output corresponds to when the red regions are not exactly bound so this riboswitch will not cleave itself. \n",
    "\n",
    "### _What behavior do we expect form the YES-1 riboswich?_\n",
    "\n",
    "#### -We expect this YES-1 riboswitch to output its input. If there is a bound sequence, this \"True\" input will yeild a \"True\" output and the riboswitch will cleave itself. If there is not a bound sequence, this \"False\" input will yield a \"False\" output and the riboswitch will not cleave itself. "
   ]
  },
  {
   "cell_type": "code",
   "execution_count": 19,
   "metadata": {},
   "outputs": [
    {
     "name": "stdout",
     "output_type": "stream",
     "text": [
      "yes-1 match:\n",
      "True\n",
      "\n",
      "not-1 match:\n",
      "True\n",
      "\n",
      "and-1 match:\n",
      "True\n",
      "\n",
      "or-1 match:\n",
      "True\n"
     ]
    }
   ],
   "source": [
    "# Confirming sequences copied down correctly \n",
    "#yes1\n",
    "nate_yes1 = \"GGGCGACCCUGAUGAGCUUGAGUUUAGCUCGUCACUGUCCAGGUUCAAUCAGGCGAAACGGUGAAAGCCGUAGGUUGCCC\"\n",
    "ryan_yes1 = \"GGGCGACCCUGAUGAGCUUGAGUUUAGCUCGUCACUGUCCAGGUUCAAUCAGGCGAAACGGUGAAAGCCGUAGGUUGCCC\"\n",
    "print(\"yes-1 match:\")\n",
    "print(nate_yes1 == ryan_yes1)\n",
    "print(\"\")\n",
    "\n",
    "# not1\n",
    "nate_not1 = \"GGCAGGUACAUACAGCUGAUGAGUCCCAAAUAGGACGAAACGCGACACACACCACUAAACCGUGCAGUGUUUUGCGUCCUGUAUUCCACUGC\"\n",
    "ryan_not1 = \"GGCAGGUACAUACAGCUGAUGAGUCCCAAAUAGGACGAAACGCGACACACACCACUAAACCGUGCAGUGUUUUGCGUCCUGUAUUCCACUGC\"\n",
    "print(\"not-1 match:\")\n",
    "print(nate_not1 == ryan_not1)\n",
    "print(\"\")\n",
    "\n",
    "# and1\n",
    "nate_and1 = \"GGGCGACCCUGAUGAGCUUGGUUUAGUAUUUACAGCUCCAUACAUGAGGUGUUAUCCCUAUGCAAGUUCGAUCAGGCGAAACGGUGAAAGCCGUAGGUUGCCCAGAGACAAU\"\n",
    "ryan_and1 = \"GGGCGACCCUGAUGAGCUUGGUUUAGUAUUUACAGCUCCAUACAUGAGGUGUUAUCCCUAUGCAAGUUCGAUCAGGCGAAACGGUGAAAGCCGUAGGUUGCCCAGAGACAAU\"\n",
    "print(\"and-1 match:\")\n",
    "print(nate_and1 == ryan_and1)\n",
    "print(\"\")\n",
    "\n",
    "# or1\n",
    "nate_or1 = \"GGGCGACCCUGAUGAGCUUGGUUGAGUAUUUACAGCUCCAUACAUGAGGUGUUCUCCCUACGCAAGUUCGAUCAGGCGAAACGGUGAAAGCCGUAGGUUGCCC\"\n",
    "ryan_or1 = \"GGGCGACCCUGAUGAGCUUGGUUGAGUAUUUACAGCUCCAUACAUGAGGUGUUCUCCCUACGCAAGUUCGAUCAGGCGAAACGGUGAAAGCCGUAGGUUGCCC\"\n",
    "print(\"or-1 match:\")\n",
    "print(nate_or1 == ryan_or1)"
   ]
  },
  {
   "cell_type": "markdown",
   "metadata": {},
   "source": [
    "#### I was not able to find where the sequences from the paper were uploaded, so my partner and I transcribed them by hand. I used the code above in order to make sure that the sequences we transcribed matched. The code that I wrote above printed out \"True\" for all of our transcribed strings, showing me that these were indeed correctly transcribed. (I do not mean transcribed as in DNA --> RNA)."
   ]
  },
  {
   "cell_type": "code",
   "execution_count": 25,
   "metadata": {},
   "outputs": [],
   "source": [
    "yes1 = \\\n",
    "\"\"\">yes1\n",
    "GGGCGACCCUGAUGAGCUUGAGUUUAGCUCGUCACUGUCCAGGUUCAAUCAGGCGAAACGGUGAAAGCCGUAGGUUGCCC\"\"\"\n",
    "\n",
    "not1 = \\\n",
    "\"\"\">not1\n",
    "GGCAGGUACAUACAGCUGAUGAGUCCCAAAUAGGACGAAACGCGACACACACCACUAAACCGUGCAGUGUUUUGCGUCCUGUAUUCCACUGC\"\"\"\n",
    "\n",
    "and1 = \\\n",
    "\"\"\">and1\n",
    "GGGCGACCCUGAUGAGCUUGGUUUAGUAUUUACAGCUCCAUACAUGAGGUGUUAUCCCUAUGCAAGUUCGAUCAGGCGAAACGGUGAAAGCCGUAGGUUGCCCAGAGACAAU\"\"\"\n",
    "\n",
    "or1 = \\\n",
    "\"\"\">or1\n",
    "GGGCGACCCUGAUGAGCUUGGUUGAGUAUUUACAGCUCCAUACAUGAGGUGUUCUCCCUACGCAAGUUCGAUCAGGCGAAACGGUGAAAGCCGUAGGUUGCCC\"\"\""
   ]
  },
  {
   "cell_type": "markdown",
   "metadata": {},
   "source": [
    "#### In the above cell, I copied and pasted the sequences for yes-1, not-1, and-1, and or-1 and defined the sequences in a way that would work with the subprocessor and RNA fold. The first line allowed them to save with a file name other than \"rna.ps\". Instead, for example, the yes1 ouput would save as a file named \"yes1_ss.ps\"\n"
   ]
  },
  {
   "cell_type": "code",
   "execution_count": 3,
   "metadata": {},
   "outputs": [
    {
     "name": "stdout",
     "output_type": "stream",
     "text": [
      "riboname  OBS-1    OBS-2    Red 1    Red 2  \n",
      "-------- -------- -------- -------- --------\n",
      "    yes1 (26, 47)       -- (16, 21) (49, 54)\n",
      "    not1 (44, 66)       -- (40, 43) (74, 77)\n",
      "    and1 (30, 45) (49, 64) (16, 23) (70, 77)\n",
      "     or1 (27, 46)  (47,66) (16, 26) (67, 77)\n"
     ]
    }
   ],
   "source": [
    "# Creating Table with columns: \"riboswitch name\", \"start/end coords of OBS-1\", \"start/end coords of OBS-2\"\n",
    "# \"start/end coords of red regions\"\n",
    "\n",
    "from astropy.table import Table\n",
    "row_yes1 = [\"yes1\", \"(26, 47)\", \"--\", \"(16, 21)\", \"(49, 54)\"]\n",
    "row_not1 = [\"not1\", \"(44, 66)\", \"--\", \"(40, 43)\", \"(74, 77)\"]\n",
    "row_and1 = [\"and1\", \"(30, 45)\", \"(49, 64)\", \"(16, 23)\", \"(70, 77)\"]\n",
    "row_or1 = [\"or1\", \"(27, 46)\",\"(47,66)\", \"(16, 26)\", \"(67, 77)\"]\n",
    "rows = [row_yes1, row_not1, row_and1, row_or1]\n",
    "\n",
    "a = Table(rows = rows, names = (\"riboname\", \"OBS-1\", \n",
    "                                \"OBS-2\", \"Red 1\", \"Red 2\"))\n",
    "print(a)"
   ]
  },
  {
   "cell_type": "markdown",
   "metadata": {},
   "source": [
    "#### In the above cell, I used astro.py to create a table with columns: riboname, OBS-1, OBS-2, Red 1, and Red 2 and rows: yes1, not1, and1, and or1. I determined the values of each row from the relevant images in the paper linked with this lab."
   ]
  },
  {
   "cell_type": "code",
   "execution_count": 27,
   "metadata": {},
   "outputs": [],
   "source": [
    "import subprocess\n",
    "from Bio import SeqIO\n",
    "\n",
    "def rnafold_sub(sequence):\n",
    "    proc = subprocess.run([\".\\RNAfold.exe\"], \n",
    "                           input = bytes(sequence, \"ascii\"),\n",
    "                           stdout=subprocess.PIPE, \n",
    "                           stderr=subprocess.PIPE)\n",
    "\n",
    "rna_switches = [yes1, not1, and1, or1]\n",
    "for switch in rna_switches:\n",
    "    rnafold_sub(switch)"
   ]
  },
  {
   "cell_type": "markdown",
   "metadata": {},
   "source": [
    "#### In the above cell, I defined a function that ran my working routine/subprocess in a terminal form within Python. This routine  takes in \".\\RNAfold.exe\" because this is the program that it calls in terminal. As an input to this program, the subprocess takes in a \"sequence\" which it encodes into bytes from \"ascii.\" This is the input to the program RNA Fold for this subprocess. The for loop that I made at the bottom of the cell allowed me to call \"rnafold_sub\" which ran the subprocess for the appropriate sequence for each element of \"rna_switches.\" Each time the subprocess was ran, it output a \".ps\" file which contained information about the optimal (lowest energy) folding structure of the input RNA sequence (which was encoded into bytes). \n",
    "\n",
    "#### The next step was to convert these .ps files into .png files so that they would be viewable and interpetable. This would also let me add them into this .ipynb file. In order to do this, I looked up a file converter online. I found the website: https://image.online-convert.com/convert-to-png and input each .ps file obtained. The .png files are files are directly below. "
   ]
  },
  {
   "cell_type": "markdown",
   "metadata": {},
   "source": [
    "##### ADRESSING QUESTIONS FROM THE LAB:\n",
    "\n",
    "# YES1\n",
    "![yes1_ss.png](all_png_files/yes1_ss.png)\n",
    "\n",
    "### The native conformation given in the publication for YES-1 does not match our plot from RNA fold. YES-1 in the paper has three distinct stems while our plot has four. Still there are comparable regions. Both plots contain a stem where the 5' end and 3' end are bound to each other. From 5' to 3', the paired sequence of the 5' end reads GGGCGACC in both plots. The shortest loops of both plots also match each other. These means that the difference between the two is that the remaining nucleotides in their plot form a single stem while in our plot they form two. Our plot contains one more base pair than the native conformation in the article. This difference may be explained by differences in parameters like temperature, acidity, or folding algorithm. In the paper, immediately prior to results, it describes a difference in algorithm \"the algorithm computes the entire ensemble of secondary structures as a function of temperature, which allows the user to choose to build only those constructs that are predicted to exhibit molecular switch characteristics.\" Our algorithm did not function this way, it searched for the lowest energy conformation, not for the lowest energy conformation that exhibits molecular switch charcteristics. \n",
    "\n",
    "\n",
    "# NOT1\n",
    "![not1_ss.png](all_png_files/not1_ss.png)\n",
    "\n",
    "### The native conformation given in the publication for NOT-1 matches our plot from RNA fold. We are able to line up each of our stem-loop structures to the stem-loop structures in the paper. The sequence at the top of the longest loop is 5'-AAAACG-3' in both the paper and our plot. Other notable features are that both plots contain a 5' overhang of one G. \n",
    "\n",
    "# AND1 \n",
    "![and1_ss.png](all_png_files/and1_ss.png)\n",
    "\n",
    "### The native conformation given in the publication for AND-1 matches our plot from RNA fold. We are able to line up each of our stem-loop structures to the stem-loop structures in the paper. The sequence at the top of the longest loop is 5'-CAUACAU-3' in both the paper and our plot. Other notable features are that both plots contain a 3' overhang of nine nucleotides (5'-AGAGACAAU-3') \n",
    "\n",
    "# OR1\n",
    "![or1_ss.png](all_png_files/or1_ss.png)\n",
    "\n",
    "### The native conformation given in the publication for OR-1 matches our plot from RNA fold. We are able to line up each of our stem-loop structures to the stem-loop structures in the paper. The sequence at the top of the longest loop is 5'-CAUACAU-3' in both the paper and our plot (note: this is sequence at the tip of the unbound portion for AND-1). Other notable features are that neither plots contain an overhang of nucleotides. "
   ]
  },
  {
   "cell_type": "code",
   "execution_count": 74,
   "metadata": {},
   "outputs": [
    {
     "name": "stdout",
     "output_type": "stream",
     "text": [
      "yes1_constraints:\n",
      "GGGCGACCCUGAUGAGCUUGAGUUUAGCUCGUCACUGUCCAGGUUCAAUCAGGCGAAACGGUGAAAGCCGUAGGUUGCCC\n",
      ".........................xxxxxxxxxxxxxxxxxxxxxx.................................\n"
     ]
    }
   ],
   "source": [
    "# Attempt to Make Yes Constraints File automatically\n",
    "# OBS region of YES1: (26, 47)\n",
    "yes1_constraints = \"\"\n",
    "for i in range(len(nate_yes1)):\n",
    "    if i in range(25,47):\n",
    "        yes1_constraints += \"x\"\n",
    "    else:\n",
    "        yes1_constraints += \".\"\n",
    "        \n",
    "print(\"yes1_constraints:\")        \n",
    "print(nate_yes1)\n",
    "print(yes1_constraints)"
   ]
  },
  {
   "cell_type": "markdown",
   "metadata": {},
   "source": [
    "#### In the above cell, I used a for loop to make a string that contained the YES-1 constraints. If the element was in the range of the OBS, a 'x' was added to the string to represent that this element was not allowed to base pair. Otherwise, a '.' was added to the string to represent no pairing constraints. "
   ]
  },
  {
   "cell_type": "code",
   "execution_count": 75,
   "metadata": {},
   "outputs": [],
   "source": [
    "file1 = open(\"YES-1_constraints.txt\", \"w\")\n",
    "file1.write(yes1_constraints)\n",
    "file1.close()"
   ]
  },
  {
   "cell_type": "markdown",
   "metadata": {},
   "source": [
    "### The above cell opened a YES-1 constraints file and wrote the YES-1 constraints to it. Then closed the file. \n",
    "\n",
    "\n",
    "\n",
    "### The lab described using the following command in terminal :\n",
    "\n",
    "### >> RNAfold -C YES-1_constraints.txt. \n",
    "\n",
    "### I found it easier to copy and paste the sequence and contraint into terminal. First I used this command:\n",
    "\n",
    "### >> RNAfold -C\n",
    "\n",
    "### RNAfold then prompted me to enter the sequence followed by the constraints. I copied and pasted the printout of the previous code cell.:\n",
    "\n",
    "##### \"GGGCGACCCUGAUGAGCUUGAGUUUAGCUCGUCACUGUCCAGGUUCAAUCAGGCGAAACGGUGAAAGCCGUAGGUUGCCC\n",
    "#### .........................xxxxxxxxxxxxxxxxxxxxxx.................................\"\n",
    "\n",
    "### This output an rna.ps file which I ran through the PNG image converter website and inserted below. "
   ]
  },
  {
   "cell_type": "markdown",
   "metadata": {},
   "source": [
    "# YES-1 with OBS1 bound\n",
    "![yes1_constraints_ss.png](all_png_files/yes1_constraints_ss.png)\n",
    "\n",
    "\n",
    "### This plot matches the self-cleaving form of YES-1. The two reg regions are bound and aligned to each other so the RNA will undergo self cleavage"
   ]
  },
  {
   "cell_type": "code",
   "execution_count": 71,
   "metadata": {},
   "outputs": [
    {
     "name": "stdout",
     "output_type": "stream",
     "text": [
      "not1_constraints:\n",
      "GGCAGGUACAUACAGCUGAUGAGUCCCAAAUAGGACGAAACGCGACACACACCACUAAACCGUGCAGUGUUUUGCGUCCUGUAUUCCACUGC\n",
      "...........................................xxxxxxxxxxxxxxxxxxxxxxx..........................\n"
     ]
    }
   ],
   "source": [
    "# Attempt to Make Not Constraints File automatically\n",
    "# OBS region of NOT1: (44, 66)\n",
    "not1_constraints = \"\"\n",
    "for i in range(len(nate_not1)):\n",
    "    if i in range(43, 66):\n",
    "        not1_constraints += \"x\"\n",
    "    else:\n",
    "        not1_constraints += \".\"\n",
    "print(\"not1_constraints:\")\n",
    "print(nate_not1)\n",
    "print(not1_constraints)\n",
    "file2 = open(\"NOT-1_constraints.txt\", \"w\")\n",
    "file2.write(not1_constraints)\n",
    "file2.close()"
   ]
  },
  {
   "cell_type": "markdown",
   "metadata": {},
   "source": [
    "### The above cell did the same thing that I described for the YES-1 constraints. It made a string that contained the constraints and then wrote them into a NOT-1 constraint file. "
   ]
  },
  {
   "cell_type": "markdown",
   "metadata": {},
   "source": [
    "# NOT-1 with OBS1 bound\n",
    "\n",
    "![not1_constraints_ss.png](all_png_files/not1_constraints_ss.png)\n",
    "\n",
    "### This plot matches does not match the self-cleaving form of NOT-1 from the paper because our plot has an additional stem-lop.  Still the two reg regions are not aligned to each other so the RNA will not undergo self cleavage. This means the NOT-1 switch still acts as we expect: cleaves when OBS unbound, does not cleave when OBS bound. "
   ]
  },
  {
   "cell_type": "code",
   "execution_count": 69,
   "metadata": {},
   "outputs": [
    {
     "name": "stdout",
     "output_type": "stream",
     "text": [
      "and-1 OBS1 constraints:\n",
      "GGGCGACCCUGAUGAGCUUGGUUUAGUAUUUACAGCUCCAUACAUGAGGUGUUAUCCCUAUGCAAGUUCGAUCAGGCGAAACGGUGAAAGCCGUAGGUUGCCCAGAGACAAU\n",
      ".............................xxxxxxxxxxxxxxxx...................................................................\n",
      "and-1 OBS2 constraints:\n",
      "GGGCGACCCUGAUGAGCUUGGUUUAGUAUUUACAGCUCCAUACAUGAGGUGUUAUCCCUAUGCAAGUUCGAUCAGGCGAAACGGUGAAAGCCGUAGGUUGCCCAGAGACAAU\n",
      "................................................xxxxxxxxxxxxxxxx................................................\n",
      "and-1 OBS1 and OBS2 constraints:\n",
      "GGGCGACCCUGAUGAGCUUGGUUUAGUAUUUACAGCUCCAUACAUGAGGUGUUAUCCCUAUGCAAGUUCGAUCAGGCGAAACGGUGAAAGCCGUAGGUUGCCCAGAGACAAU\n",
      ".............................xxxxxxxxxxxxxxxx...xxxxxxxxxxxxxxxx................................................\n"
     ]
    }
   ],
   "source": [
    "# OBS1 region of AND1: (30, 45)\n",
    "and1_constraints_OBS1 = \"\"\n",
    "for i in range(len(nate_and1)):\n",
    "    if i in range(29, 45):\n",
    "        and1_constraints_OBS1 += \"x\"\n",
    "    else:\n",
    "        and1_constraints_OBS1 += \".\"\n",
    "print(\"and-1 OBS1 constraints:\")\n",
    "print(nate_and1)\n",
    "print(and1_constraints_OBS1)\n",
    "file2 = open(\"AND-1_OBS1_constraints.txt\", \"w\")\n",
    "file2.write(and1_constraints_OBS1)\n",
    "file2.close()\n",
    "\n",
    "# OBS2 region of AND1:(49, 64)\n",
    "and1_constraints_OBS2 = \"\"\n",
    "for i in range(len(nate_and1)):\n",
    "    if i in range(48, 64):\n",
    "        and1_constraints_OBS2 += \"x\"\n",
    "    else:\n",
    "        and1_constraints_OBS2 += \".\"\n",
    "print(\"and-1 OBS2 constraints:\")\n",
    "print(nate_and1)\n",
    "print(and1_constraints_OBS2)\n",
    "file3 = open(\"AND-1_OBS2_constraints.txt\", \"w\")\n",
    "file3.write(and1_constraints_OBS2)\n",
    "file3.close()\n",
    "\n",
    "\n",
    "and1_constraints_OBS12 = \"\"\n",
    "for i in range(len(nate_and1)):\n",
    "    if i in range(48, 64):\n",
    "        and1_constraints_OBS12 += \"x\"\n",
    "    elif i in range(29, 45):\n",
    "        and1_constraints_OBS12 += \"x\"\n",
    "    else:\n",
    "        and1_constraints_OBS12 += \".\"\n",
    "print(\"and-1 OBS1 and OBS2 constraints:\")\n",
    "print(nate_and1)\n",
    "print(and1_constraints_OBS12)\n",
    "file3 = open(\"AND-1_OBS1and2_constraints.txt\", \"w\")\n",
    "file3.write(and1_constraints_OBS12)\n",
    "file3.close()\n",
    "\n"
   ]
  },
  {
   "cell_type": "markdown",
   "metadata": {},
   "source": [
    "### The above cell created the constraints for AND-1 when OBS1, OBS2, and OBS1 and 2 are bound. The process is the same as the one described for YES-1 in a previous Markdown section. The plots were obtained the same way that they were for the YES-1 and NOT-1 sequences (described above)."
   ]
  },
  {
   "cell_type": "markdown",
   "metadata": {},
   "source": [
    "# AND-1 OBS1 Constraint\n",
    "![and1_constraint_OBS1_ss.png](all_png_files/and1_constraint_OBS1_ss.png)\n",
    "\n",
    "### Our plot is similar to the plot in the paper especially at the end where the 5' and 3' end are base paired to each other. The difference is that our structure has more base pairs becasue our plot base pairs more of the nucleotides close to OBS1 to nucleotides in OBS2. Only three nucleotides do this in the plot in the paper. Still, the red regions are not aligned so this switch does not undergo self cleavage. \n",
    "\n",
    "# AND-1 OBS2 Constraint\n",
    "![and1_constraint_OBS2_ss.png](all_png_files/and1_constraint_OBS2_ss.png)\n",
    "\n",
    "### Again, our plot is similar to the one in the paper, but they fo not exacly line up. The plots are most similar near where the 5' and 3' ends are bound to each other and most different by the bound OBS site (here, OBS2). Still, the red regions are not aligned so this switch does not undergo self cleavage. \n",
    "\n",
    "# AND-1 OBS1 and OBS2 Constraint\n",
    "![and1_constraint_OBS1and2_ss.png](all_png_files/and1_constraint_OBS1and2_ss.png)\n",
    "\n",
    "### Again, our plots are similar but differ slightly in that the red sequences are not aligned to each other. This is an important difference because that means that our AND-1 switch does not behave as we expect. Even when both OBS sequences are bound, the switch does not undergo cleavage. \n",
    "\n",
    "# LOGIC TABLE FOR AND-1:\n",
    "### The first Boolean is for whether OBS1 is bound; The second is for whether OBS2 is bound\n",
    "### The results are shown in the second row. A \"F\" output corresponds to a switch that doesn't undergo self cleavage.\n",
    "\n",
    " |F/F|T/F|F/T|T/T| \n",
    " |---|---|---|---|\n",
    " | F | F | F | F | \n"
   ]
  },
  {
   "cell_type": "code",
   "execution_count": 70,
   "metadata": {},
   "outputs": [
    {
     "name": "stdout",
     "output_type": "stream",
     "text": [
      "or-1 OBS1 constraints:\n",
      "GGGCGACCCUGAUGAGCUUGGUUGAGUAUUUACAGCUCCAUACAUGAGGUGUUCUCCCUACGCAAGUUCGAUCAGGCGAAACGGUGAAAGCCGUAGGUUGCCC\n",
      "..........................xxxxxxxxxxxxxxxxxxxx.........................................................\n",
      "or-1 OBS2 constraints:\n",
      "GGGCGACCCUGAUGAGCUUGGUUGAGUAUUUACAGCUCCAUACAUGAGGUGUUCUCCCUACGCAAGUUCGAUCAGGCGAAACGGUGAAAGCCGUAGGUUGCCC\n",
      "..............................................xxxxxxxxxxxxxxxxxxxx.....................................\n",
      "or-1 OBS1 and OBS2 constraints:\n",
      "GGGCGACCCUGAUGAGCUUGGUUGAGUAUUUACAGCUCCAUACAUGAGGUGUUCUCCCUACGCAAGUUCGAUCAGGCGAAACGGUGAAAGCCGUAGGUUGCCC\n",
      "..........................xxxxxxxxxxxxxxxxxxxxxxxxxxxxxxxxxxxxxxxx.....................................\n"
     ]
    }
   ],
   "source": [
    "# OBS1 region of OR1: (27, 46)  \n",
    "or1_constraints_OBS1 = \"\"\n",
    "for i in range(len(nate_or1)):\n",
    "    if i in range(26, 46):\n",
    "        or1_constraints_OBS1 += \"x\"\n",
    "    else:\n",
    "        or1_constraints_OBS1 += \".\"\n",
    "print(\"or-1 OBS1 constraints:\")\n",
    "print(nate_or1)\n",
    "print(or1_constraints_OBS1)\n",
    "file2 = open(\"OR-1_OBS1_constraints.txt\", \"w\")\n",
    "file2.write(or1_constraints_OBS1)\n",
    "file2.close()\n",
    "\n",
    "# OBS2 region of OR1:(47,66)\n",
    "or1_constraints_OBS2 = \"\"\n",
    "for i in range(len(nate_or1)):\n",
    "    if i in range(46, 66):\n",
    "        or1_constraints_OBS2 += \"x\"\n",
    "    else:\n",
    "        or1_constraints_OBS2 += \".\"\n",
    "print(\"or-1 OBS2 constraints:\")\n",
    "print(nate_or1)\n",
    "print(or1_constraints_OBS2)\n",
    "file3 = open(\"OR-1_OBS2_constraints.txt\", \"w\")\n",
    "file3.write(or1_constraints_OBS2)\n",
    "file3.close()\n",
    "\n",
    "\n",
    "or1_constraints_OBS12 = \"\"\n",
    "for i in range(len(nate_or1)):\n",
    "    if i in range(46, 66):\n",
    "        or1_constraints_OBS12 += \"x\"\n",
    "    elif i in range(26, 46):\n",
    "        or1_constraints_OBS12 += \"x\"\n",
    "    else:\n",
    "        or1_constraints_OBS12 += \".\"\n",
    "print(\"or-1 OBS1 and OBS2 constraints:\")\n",
    "print(nate_or1)\n",
    "print(or1_constraints_OBS12)\n",
    "file3 = open(\"OR-1_OBS1and2_constraints.txt\", \"w\")\n",
    "file3.write(or1_constraints_OBS12)\n",
    "file3.close()\n",
    "\n"
   ]
  },
  {
   "cell_type": "markdown",
   "metadata": {},
   "source": [
    "### The above cell created the constraints for OR-1 when OBS1, OBS2, and OBS1 and 2 are bound. The process is the same as the one described for YES-1 in a previous Markdown section. The plots were obtained the same way that they were for the YES-1 and NOT-1 sequences (described above)."
   ]
  },
  {
   "cell_type": "markdown",
   "metadata": {},
   "source": [
    "# OR-1 OBS1 Constraint\n",
    "![or1_constraint_OBS1_ss.png](all_png_files/or1_constraint_OBS1_ss.png)\n",
    "\n",
    "### Our structure and the structure in the paper have a similar number of loops, however they are of different lengths. Because of this, the two red regions are not aligned, and the switch does not undergo self-cleavage. Because it is an OR logic gate, it should. \n",
    "\n",
    "# OR-1 OBS2 Constraint\n",
    "![or1_constraint_OBS2_ss.png](all_png_files/or1_constraint_OBS2_ss.png)\n",
    "\n",
    "### Thankfully, this plot matches exactly to the one in the paper. We have the same number of stem loops and the same length of each stem loop. The red regions are aligned bound so this switch undergoes self-cleavage.\n",
    "\n",
    "# OR-1 OBS1 and OBS2 Constraint\n",
    "![or1_constraint_OBS1and2_ss.png](all_png_files/or1_constraint_OBS1and2_ss.png)\n",
    "\n",
    "### This plot matches exactly to the corresponding plot in the paper. It is also the same as the OR-1 OBS1 Constraint plot. The stem loops are the same length. The red regions are aligned and bound so this switch undergoes self-cleavage. \n",
    "\n",
    "# LOGIC TABLE FOR OR-1:\n",
    "### The first Boolean is for whether OBS1 is bound; The second is for whether OBS2 is bound\n",
    "### The results are shown in the second row. A \"F\" output corresponds to a switch that doesn't undergo self cleavage, while a \"T\" corresponds to a self-cleaving switch.\n",
    "\n",
    " |F/F|T/F|F/T|T/T| \n",
    " |---|---|---|---|\n",
    " | F | F | T | T | "
   ]
  },
  {
   "cell_type": "markdown",
   "metadata": {},
   "source": [
    "## CONCLUSION: \n",
    "\n",
    "### The YES-1 and NOT-1 riboswitches work as expected. YES-1 cleaves when the OBS is bound and does not when the OBS does is not bound. The switch outputs the input. The NOT-1 switch outputs the opposite of the input. When the OBS is bound it does not cleave. When the OBS is bound it cleaves. \n",
    "\n",
    "### The AND-1 and OR-1 switches are more complicated because they require two inputs. Our switches do not function the same way the switches described in the paper function. The AND-1 switch always outputs FALSE (does not cleave) no matter the input combination. If it functioned like the paper it would cleave when both inputs are TRUE. The OR-1 switch cleaves when OBS2 is bound or when both OBS1 and OBS2 are bound but not when only OBS1 is bound or when nether are bound. If OR-1 were to function as the paper said, it should also cleve when only OBS1 is bound. "
   ]
  },
  {
   "cell_type": "code",
   "execution_count": null,
   "metadata": {},
   "outputs": [],
   "source": []
  }
 ],
 "metadata": {
  "kernelspec": {
   "display_name": "Python 3",
   "language": "python",
   "name": "python3"
  },
  "language_info": {
   "codemirror_mode": {
    "name": "ipython",
    "version": 3
   },
   "file_extension": ".py",
   "mimetype": "text/x-python",
   "name": "python",
   "nbconvert_exporter": "python",
   "pygments_lexer": "ipython3",
   "version": "3.6.5"
  }
 },
 "nbformat": 4,
 "nbformat_minor": 2
}
