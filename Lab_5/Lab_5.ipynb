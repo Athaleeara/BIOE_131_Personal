{
 "cells": [
  {
   "cell_type": "code",
   "execution_count": 11,
   "metadata": {},
   "outputs": [
    {
     "name": "stdout",
     "output_type": "stream",
     "text": [
      "yes-1 match:\n",
      "True\n",
      "\n",
      "not-1 match:\n",
      "True\n",
      "\n",
      "and-1 match:\n",
      "True\n",
      "\n",
      "or-1 match:\n",
      "True\n"
     ]
    }
   ],
   "source": [
    "# Confirming sequences copied down correctly \n",
    "#yes1\n",
    "nate_yes1 = \"GGGCGACCCUGAUGAGCUUGAGUUUAGCUCGUCACUGUCCAGGUUCAAUCAGGCGAAACGGUGAAAGCCGUAGGUUGCCC\"\n",
    "ryan_yes1 = \"GGGCGACCCUGAUGAGCUUGAGUUUAGCUCGUCACUGUCCAGGUUCAAUCAGGCGAAACGGUGAAAGCCGUAGGUUGCCC\"\n",
    "print(\"yes-1 match:\")\n",
    "print(nate_yes1 == ryan_yes1)\n",
    "yes1 = nate_yes1\n",
    "print(\"\")\n",
    "\n",
    "# not1\n",
    "nate_not1 = \"GGCAGGUACAUACAGCUGAUGAGUCCCAAAUAGGACGAAACGCGACACACACCACUAAACCGUGCAGUGUUUUGCGUCCUGUAUUCCACUGC\"\n",
    "ryan_not1 = \"GGCAGGUACAUACAGCUGAUGAGUCCCAAAUAGGACGAAACGCGACACACACCACUAAACCGUGCAGUGUUUUGCGUCCUGUAUUCCACUGC\"\n",
    "print(\"not-1 match:\")\n",
    "print(nate_not1 == ryan_not1)\n",
    "not1 = nate_not1\n",
    "print(\"\")\n",
    "\n",
    "# and1\n",
    "nate_and1 = \"GGGCGACCCUGAUGAGCUUGGUUUAGUAUUUACAGCUCCAUACAUGAGGUGUUAUCCCUAUGCAAGUUCGAUCAGGCGAAACGGUGAAAGCCGUAGGUUGCCCAGAGACAAU\"\n",
    "ryan_and1 = \"GGGCGACCCUGAUGAGCUUGGUUUAGUAUUUACAGCUCCAUACAUGAGGUGUUAUCCCUAUGCAAGUUCGAUCAGGCGAAACGGUGAAAGCCGUAGGUUGCCCAGAGACAAU\"\n",
    "print(\"and-1 match:\")\n",
    "print(nate_and1 == ryan_and1)\n",
    "and1 = nate_and1\n",
    "print(\"\")\n",
    "\n",
    "# or1\n",
    "nate_or1 = \"GGGCGACCCUGAUGAGCUUGGUUGAGUAUUUACAGCUCCAUACAUGAGGUGUUCUCCCUACGCAAGUUCGAUCAGGCGAAACGGUGAAAGCCGUAGGUUGCCC\"\n",
    "ryan_or1 = \"GGGCGACCCUGAUGAGCUUGGUUGAGUAUUUACAGCUCCAUACAUGAGGUGUUCUCCCUACGCAAGUUCGAUCAGGCGAAACGGUGAAAGCCGUAGGUUGCCC\"\n",
    "print(\"or-1 match:\")\n",
    "print(nate_or1 == ryan_or1)\n",
    "or1 = nate_or1"
   ]
  },
  {
   "cell_type": "code",
   "execution_count": 20,
   "metadata": {},
   "outputs": [
    {
     "name": "stdout",
     "output_type": "stream",
     "text": [
      "riboname start/end OBS-1 start/end OBS-2    start/end reds   \n",
      "-------- --------------- --------------- --------------------\n",
      "    yes1        (26, 47)              --  [16, 21), (49, 54)]\n",
      "    not1        (44, 66)              -- [(40, 43), (74, 77)]\n",
      "    and1        (30, 45)        (49, 64) [(16, 23), (70, 77)]\n",
      "     or1        (27, 46)         (47,66) [(16, 26), (67, 77)]\n"
     ]
    }
   ],
   "source": [
    "# Creating Table with columns: \"riboswitch name\", \"start/end coords of OBS-1\", \"start/end coords of OBS-2\"\n",
    "# \"start/end coords of red regions\"\n",
    "\n",
    "from astropy.table import Table\n",
    "row_yes1 = [\"yes1\", \"(26, 47)\", \"--\", \"[16, 21), (49, 54)]\"]\n",
    "row_not1 = [\"not1\", \"(44, 66)\", \"--\", \"[(40, 43), (74, 77)]\"]\n",
    "row_and1 = [\"and1\", \"(30, 45)\", \"(49, 64)\", \"[(16, 23), (70, 77)]\"]\n",
    "row_or1 = [\"or1\", \"(27, 46)\",\"(47,66)\", \"[(16, 26), (67, 77)]\"]\n",
    "rows = [row_yes1, row_not1, row_and1, row_or1]\n",
    "\n",
    "a = Table(rows = rows, names = (\"riboname\", \"start/end OBS-1\", \n",
    "                                \"start/end OBS-2\", \"start/end reds\"))\n",
    "print(a)"
   ]
  },
  {
   "cell_type": "code",
   "execution_count": 18,
   "metadata": {},
   "outputs": [
    {
     "ename": "NameError",
     "evalue": "name 'args' is not defined",
     "output_type": "error",
     "traceback": [
      "\u001b[1;31m---------------------------------------------------------------------------\u001b[0m",
      "\u001b[1;31mNameError\u001b[0m                                 Traceback (most recent call last)",
      "\u001b[1;32m<ipython-input-18-37a8fa0c0a4c>\u001b[0m in \u001b[0;36m<module>\u001b[1;34m()\u001b[0m\n\u001b[0;32m      1\u001b[0m \u001b[1;32mimport\u001b[0m \u001b[0msubprocess\u001b[0m\u001b[1;33m\u001b[0m\u001b[0m\n\u001b[0;32m      2\u001b[0m \u001b[1;33m\u001b[0m\u001b[0m\n\u001b[1;32m----> 3\u001b[1;33m proc = subprocess.run(args, input,\n\u001b[0m\u001b[0;32m      4\u001b[0m                       \u001b[0mstdout\u001b[0m\u001b[1;33m=\u001b[0m\u001b[0msubprocess\u001b[0m\u001b[1;33m.\u001b[0m\u001b[0mPIPE\u001b[0m\u001b[1;33m,\u001b[0m \u001b[0mstderr\u001b[0m\u001b[1;33m=\u001b[0m\u001b[0msubprocess\u001b[0m\u001b[1;33m.\u001b[0m\u001b[0mPIPE\u001b[0m\u001b[1;33m,\u001b[0m\u001b[1;33m\u001b[0m\u001b[0m\n\u001b[0;32m      5\u001b[0m                       check = TRUE)\n",
      "\u001b[1;31mNameError\u001b[0m: name 'args' is not defined"
     ]
    }
   ],
   "source": [
    "import subprocess\n",
    "\n",
    "proc = subprocess.run(args, input,\n",
    "                      stdout=subprocess.PIPE, stderr=subprocess.PIPE,\n",
    "                      check = TRUE)"
   ]
  },
  {
   "cell_type": "code",
   "execution_count": null,
   "metadata": {},
   "outputs": [],
   "source": []
  }
 ],
 "metadata": {
  "kernelspec": {
   "display_name": "Python 3",
   "language": "python",
   "name": "python3"
  },
  "language_info": {
   "codemirror_mode": {
    "name": "ipython",
    "version": 3
   },
   "file_extension": ".py",
   "mimetype": "text/x-python",
   "name": "python",
   "nbconvert_exporter": "python",
   "pygments_lexer": "ipython3",
   "version": "3.6.5"
  }
 },
 "nbformat": 4,
 "nbformat_minor": 2
}
